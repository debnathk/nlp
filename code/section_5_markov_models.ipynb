{
  "cells": [
    {
      "cell_type": "markdown",
      "metadata": {
        "id": "XCZRXavbMLbE"
      },
      "source": [
        "# Section 5 - Markov Models"
      ]
    },
    {
      "cell_type": "markdown",
      "source": [
        "## Basic definitions\n",
        "\n",
        ">**Markov property**:\n",
        "- The probability of a word occurring depends only on the previous word or a fixed number of preceding words, and not on the earlier words.\n",
        "\n",
        ">**State transition matrix (denoted as `A`)**:\n",
        "- A 2D matrix of the probabilities of transitioning from one state to another.\n",
        "\n",
        ">**Initial state distribution (denoted as `π`)**:\n",
        "- The probability distribution over the possible starting states.\n",
        "\n",
        ">**Priors**:\n",
        "- Probability distribution of the classes."
      ],
      "metadata": {
        "id": "7iMluAgKMuJ8"
      }
    },
    {
      "cell_type": "markdown",
      "metadata": {
        "id": "hshcKBPqMLbG"
      },
      "source": [
        "## Case Study - Building a Text Classifier"
      ]
    },
    {
      "cell_type": "code",
      "execution_count": null,
      "metadata": {
        "id": "dCUs__THMLbG",
        "outputId": "74dc0efd-36a1-47b7-eebf-62615a540cae"
      },
      "outputs": [
        {
          "ename": "NameError",
          "evalue": "name 'wget' is not defined",
          "output_type": "error",
          "traceback": [
            "\u001b[1;31m---------------------------------------------------------------------------\u001b[0m",
            "\u001b[1;31mNameError\u001b[0m                                 Traceback (most recent call last)",
            "Cell \u001b[1;32mIn[7], line 2\u001b[0m\n\u001b[0;32m      1\u001b[0m \u001b[38;5;66;03m# Download datasets\u001b[39;00m\n\u001b[1;32m----> 2\u001b[0m wget(\u001b[38;5;124m\"\u001b[39m\u001b[38;5;124mhttps://raw.githubusercontent.com/lazyprogrammer/machine_learning_examples/master/hmm_class/edgar_allan_poe.txt\u001b[39m\u001b[38;5;124m\"\u001b[39m)\n",
            "\u001b[1;31mNameError\u001b[0m: name 'wget' is not defined"
          ]
        }
      ],
      "source": [
        "# Download datasets\n",
        "!wget -nc https://raw.githubusercontent.com/lazyprogrammer/machine_learning_examples/master/hmm_class/edgar_allan_poe.txt\n",
        "!wget -nc https://raw.githubusercontent.com/lazyprogrammer/machine_learning_examples/master/hmm_class/robert_frost.txt\n"
      ]
    }
  ],
  "metadata": {
    "kernelspec": {
      "display_name": "base",
      "language": "python",
      "name": "python3"
    },
    "language_info": {
      "codemirror_mode": {
        "name": "ipython",
        "version": 3
      },
      "file_extension": ".py",
      "mimetype": "text/x-python",
      "name": "python",
      "nbconvert_exporter": "python",
      "pygments_lexer": "ipython3",
      "version": "3.11.7"
    },
    "colab": {
      "provenance": []
    }
  },
  "nbformat": 4,
  "nbformat_minor": 0
}
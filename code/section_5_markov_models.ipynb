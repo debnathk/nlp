{
  "cells": [
    {
      "cell_type": "markdown",
      "metadata": {
        "id": "XCZRXavbMLbE"
      },
      "source": [
        "# Section 5 - Markov Models"
      ]
    },
    {
      "cell_type": "markdown",
      "source": [
        "## Basic definitions\n",
        "\n",
        ">**Markov property**:\n",
        "- The probability of a word occurring depends only on the previous word or a fixed number of preceding words, and not on the earlier words.\n",
        "\n",
        ">**State transition matrix (denoted as `A`)**:\n",
        "- A 2D matrix of the probabilities of transitioning from one state to another.\n",
        "\n",
        ">**Initial state distribution (denoted as `π`)**:\n",
        "- The probability distribution over the possible starting states.\n",
        "\n",
        ">**Priors**:\n",
        "- Probability distribution of the classes."
      ],
      "metadata": {
        "id": "7iMluAgKMuJ8"
      }
    },
    {
      "cell_type": "markdown",
      "metadata": {
        "id": "hshcKBPqMLbG"
      },
      "source": [
        "## Case Study - Building a Text Classifier"
      ]
    },
    {
      "cell_type": "code",
      "execution_count": 3,
      "metadata": {
        "colab": {
          "base_uri": "https://localhost:8080/"
        },
        "id": "dCUs__THMLbG",
        "outputId": "21f0baa7-c0a1-4d83-a9a8-138f34529ca9"
      },
      "outputs": [
        {
          "output_type": "stream",
          "name": "stdout",
          "text": [
            "--2024-06-15 04:42:46--  https://raw.githubusercontent.com/lazyprogrammer/machine_learning_examples/master/hmm_class/edgar_allan_poe.txt\n",
            "Resolving raw.githubusercontent.com (raw.githubusercontent.com)... 185.199.108.133, 185.199.109.133, 185.199.110.133, ...\n",
            "Connecting to raw.githubusercontent.com (raw.githubusercontent.com)|185.199.108.133|:443... connected.\n",
            "HTTP request sent, awaiting response... 200 OK\n",
            "Length: 26622 (26K) [text/plain]\n",
            "Saving to: ‘edgar_allan_poe.txt’\n",
            "\n",
            "\redgar_allan_poe.txt   0%[                    ]       0  --.-KB/s               \redgar_allan_poe.txt 100%[===================>]  26.00K  --.-KB/s    in 0.003s  \n",
            "\n",
            "2024-06-15 04:42:46 (8.66 MB/s) - ‘edgar_allan_poe.txt’ saved [26622/26622]\n",
            "\n",
            "--2024-06-15 04:42:46--  https://raw.githubusercontent.com/lazyprogrammer/machine_learning_examples/master/hmm_class/robert_frost.txt\n",
            "Resolving raw.githubusercontent.com (raw.githubusercontent.com)... 185.199.110.133, 185.199.108.133, 185.199.111.133, ...\n",
            "Connecting to raw.githubusercontent.com (raw.githubusercontent.com)|185.199.110.133|:443... connected.\n",
            "HTTP request sent, awaiting response... 200 OK\n",
            "Length: 56286 (55K) [text/plain]\n",
            "Saving to: ‘robert_frost.txt’\n",
            "\n",
            "robert_frost.txt    100%[===================>]  54.97K  --.-KB/s    in 0.01s   \n",
            "\n",
            "2024-06-15 04:42:47 (4.15 MB/s) - ‘robert_frost.txt’ saved [56286/56286]\n",
            "\n"
          ]
        }
      ],
      "source": [
        "# Download datasets\n",
        "!wget -nc https://raw.githubusercontent.com/lazyprogrammer/machine_learning_examples/master/hmm_class/edgar_allan_poe.txt\n",
        "!wget -nc https://raw.githubusercontent.com/lazyprogrammer/machine_learning_examples/master/hmm_class/robert_frost.txt\n"
      ]
    },
    {
      "cell_type": "code",
      "source": [
        "import numpy as np\n",
        "import matplotlib.pyplot as plt\n",
        "import string\n",
        "from sklearn.model_selection import train_test_split"
      ],
      "metadata": {
        "id": "78EAITbyNNGr"
      },
      "execution_count": 4,
      "outputs": []
    },
    {
      "cell_type": "code",
      "source": [],
      "metadata": {
        "id": "wWj2sC1fNN9q"
      },
      "execution_count": null,
      "outputs": []
    }
  ],
  "metadata": {
    "kernelspec": {
      "display_name": "base",
      "language": "python",
      "name": "python3"
    },
    "language_info": {
      "codemirror_mode": {
        "name": "ipython",
        "version": 3
      },
      "file_extension": ".py",
      "mimetype": "text/x-python",
      "name": "python",
      "nbconvert_exporter": "python",
      "pygments_lexer": "ipython3",
      "version": "3.11.7"
    },
    "colab": {
      "provenance": []
    }
  },
  "nbformat": 4,
  "nbformat_minor": 0
}
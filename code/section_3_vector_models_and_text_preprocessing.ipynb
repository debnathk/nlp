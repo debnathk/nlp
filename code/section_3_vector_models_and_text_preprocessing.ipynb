{
 "cells": [
  {
   "cell_type": "markdown",
   "metadata": {},
   "source": [
    "# Section 3: Vector Models and Text Preprocessing"
   ]
  },
  {
   "cell_type": "markdown",
   "metadata": {},
   "source": [
    "### Import definitions:"
   ]
  },
  {
   "cell_type": "markdown",
   "metadata": {},
   "source": [
    ">**Token:**\n",
    "- A token is a sub-unit of substance, it can be a 'word', can be a 'punctuation', also can be a sub-words. A token is often used interchangibly with 'word'.\n",
    "\n",
    ">**Letters and Characters:**\n",
    "- Letters: a, A, b, B.\n",
    "- Characters: '_', '\\n'.\n",
    "- [All letters are characters, but not all characters are letters].\n",
    "\n",
    ">**Vocabulary:**\n",
    "- Collection of all the words.\n",
    "\n",
    ">**Corpus:**\n",
    "- Nothing but the dataset our ML model will be trained on.\n",
    "\n",
    ">**N-gram:**\n",
    "- N-consecutive items.\n",
    "- unigram - 'I', bigram - 'good morning', trigram - 'See you soon'.\n",
    "- Usecase - word2vec (bigrams), markov models (bigram probabilities).\n",
    "\n",
    ">**Vector:**\n",
    "- An array of scalars.\n",
    "- Usecase - in spam detection, vectors are used as working with vectors are easier than working with raw text.\n",
    "\n",
    ">**Bag of Words:**\n",
    "- An unordered collection of words.\n",
    "\n",
    ">**Stopwords:**\n",
    "- Words that don't provide any context.\n",
    "- \"and\", \"the\", \"but\".\n",
    "\n",
    ">**Stepping and lemmatization:**\n",
    "- Converting words to root words.\n",
    "- Stemming - crude, may or may not produce meaningful word.\n",
    "- Lemmatization - sophisticated, returns a meaningful root word (aka lemma).\n",
    "- Root word of a word is dependent upon its POS.\n",
    "\n",
    ">**Vector Similarity:**\n",
    "- Calculating the similarity b/w two vectors and giving a similarity score as an output.\n",
    "- Application - article spinning, word replacement\n",
    "- Measures of similarity - Euclidean distance, cosine similarity, cosine similarity is more commonly used.\n",
    "- Euclidean Distance- The Euclidean distance `d` between two points `A(x₁, y₁)` and `B(x₂, y₂)` is given by the formula:\n",
    "\n",
    "    <p style=\"text-align: center;\">d = sqrt((x₂ - x₁)² + (y₂ - y₁)²)</p>\n",
    "\n",
    "- Cosine similarity - The cosine similarity between two vectors A and B is given by the formula:\n",
    "\n",
    "    - Cosine Similarity = (A · B) / (||A|| ||B||)\n",
    "    Where:\n",
    "    - A · B is the dot product of A and B.\n",
    "    - ||A|| is the magnitude of vector A.\n",
    "    - ||B|| is the magnitude of vector B.\n",
    "    In expanded form, this can be written as:\n",
    "    <p style=\"text-align: center;\">Cosine Similarity = Σ (Aᵢ * Bᵢ) / (√(Σ Aᵢ²) * √(Σ Bᵢ²))</p>\n",
    "    Where Σ denotes the summation over the vector elements.\n",
    "\n",
    "- When we are ranking the similarities, after sorting them by similraity scores, the euclidean distance annd cosine similarity is somehow equivalent.\n",
    "- If we normalize vectors, the L2-norm becomes 1: Converting all the vectors into unit length, thus just comparing them based on angles b/w them, which makes the comparison simple.\n",
    "- L2-norm - Nothing but euclidean distance of a vector from origin.\n",
    "    - The L2-norm (Euclidean norm) of a vector A with n components is given by the formula:\n",
    "\n",
    "    <p style=\"text-align: center;\">||A||₂ = √(Σ Aᵢ²)</p>\n",
    "\n",
    "    - Where:\n",
    "        - ||A||₂ represents the L2-norm of vector A.\n",
    "        - Aᵢ denotes the i-th component of vector A.\n",
    "\n",
    "    - This formula calculates the square root of the sum of squares of each component of the vector, providing a measure of the vector's magnitude in Euclidean space.\n",
    "\n",
    ">**TF-IDF:**\n",
    "- To improve the count-vectorizer.\n",
    "- Popular for documnet retrieval and text mining.\n",
    "- Intuition - If a word appears many times in several documents, it basically doesn't hold much significance in analyzing those documents.\n",
    "- The TF-IDF (Term Frequency-Inverse Document Frequency) score of a term `t` in a document `d` within a corpus is calculated as follows:\n",
    "\n",
    "    <p style=\"text-align: center;\">TF-IDF(t, d, D) = TF(t, d) × IDF(t, D)</p>\n",
    "\n",
    "    - Where:\n",
    "        - TF(t, d) is the term frequency of term `t` in document `d`, representing the frequency of term `t` in document `d`.\n",
    "        - IDF(t, D) is the inverse document frequency of term `t` in corpus `D`, representing the logarithmically scaled inverse fraction of the documents that contain term `t` across the entire corpus `D`.\n",
    "\n",
    "    - TF-IDF score is used to evaluate the importance of a term within a document relative to its frequency in the entire corpus, providing a measure of the significance of the term in the context of the document and corpus.\n",
    "- The normalized TF-IDF score of a term t in a document d within a corpus is calculated as follows:\n",
    "\n",
    "    <p style=\"text-align: center;\">TF-IDF_norm(t, d, D) = TF-IDF(t, d, D) / √(∑(TF-IDF(t', d, D)²))</p>\n",
    "\n",
    "    - Where:\n",
    "        - TF-IDF(t, d, D) is the TF-IDF score of term t in document d within corpus D, as calculated by the TF-IDF formula.\n",
    "        - ∑ denotes the summation over all terms t' in document d.\n",
    "        - TF-IDF_norm(t, d, D) is the normalized TF-IDF score of term t in document d within corpus D.\n",
    "\n",
    "    - The normalized TF-IDF score scales down the TF-IDF score of each term in a document by the Euclidean norm of the TF-IDF vector for that document, ensuring that the scores are in the range [0, 1].\n",
    "\n",
    ">**Word embedding:**\n",
    "- Unlike representing words as isolated entities with frequencies, like in count vectorizing, word embedding captures the semantic relationships b/w words. \n",
    "- Words with similar meanings or contexts are closer together in the embedding space. \n",
    "- Man:King::Woman:Queen, Miami:Florida::Dallas:Texas"
   ]
  },
  {
   "cell_type": "markdown",
   "metadata": {},
   "source": [
    "### Tokenization:\n",
    ">**Definition:**\n",
    "- \"I like cats\" -> str.split() -> [\"I\", \"like\", \"cats\"]\n",
    "- Punctuation characters can be tokenized, if it enhances the result\n",
    "- Types of tokenization - word-based, character-based, sub-word based\n"
   ]
  },
  {
   "cell_type": "code",
   "execution_count": 1,
   "metadata": {},
   "outputs": [],
   "source": [
    "# %pip install scikit-learn\n",
    "# %pip install nltk\n",
    "# %pip install --upgrade pip"
   ]
  },
  {
   "cell_type": "code",
   "execution_count": 2,
   "metadata": {},
   "outputs": [],
   "source": [
    "# Import CountVectorizer function from sklearn\n",
    "from sklearn.feature_extraction.text import CountVectorizer"
   ]
  },
  {
   "cell_type": "code",
   "execution_count": 4,
   "metadata": {},
   "outputs": [
    {
     "data": {
      "text/plain": [
       "['This is the first document.',\n",
       " 'This document is the second document.',\n",
       " 'And this is the third one.',\n",
       " 'Is this the first document?']"
      ]
     },
     "execution_count": 4,
     "metadata": {},
     "output_type": "execute_result"
    }
   ],
   "source": [
    "# Read the text file as the possible corpus\n",
    "with open('../textfile.txt', 'r') as f:\n",
    "    corpus = [line.strip() for line in f]\n",
    "corpus"
   ]
  },
  {
   "cell_type": "code",
   "execution_count": 5,
   "metadata": {},
   "outputs": [],
   "source": [
    "# Create a CountVectorizer object, perform tokenization\n",
    "# Considering words as tokens, Converting the corpus to lowercase, avoiding any accent\n",
    "vectorizer_cv = CountVectorizer(analyzer='word', lowercase=True, strip_accents='ascii') \n",
    "# vectorizer_cv = CountVectorizer(analyzer='char', lowercase=True, strip_accents='ascii') # For character-level tokenization\n",
    "X = vectorizer_cv.fit_transform(corpus)"
   ]
  },
  {
   "cell_type": "code",
   "execution_count": 6,
   "metadata": {},
   "outputs": [
    {
     "data": {
      "text/plain": [
       "array(['and', 'document', 'first', 'is', 'one', 'second', 'the', 'third',\n",
       "       'this'], dtype=object)"
      ]
     },
     "execution_count": 6,
     "metadata": {},
     "output_type": "execute_result"
    }
   ],
   "source": [
    "# Get the vocabulary\n",
    "vectorizer_cv.get_feature_names_out()"
   ]
  },
  {
   "cell_type": "code",
   "execution_count": 7,
   "metadata": {},
   "outputs": [
    {
     "data": {
      "text/plain": [
       "array([[0, 1, 1, 1, 0, 0, 1, 0, 1],\n",
       "       [0, 2, 0, 1, 0, 1, 1, 0, 1],\n",
       "       [1, 0, 0, 1, 1, 0, 1, 1, 1],\n",
       "       [0, 1, 1, 1, 0, 0, 1, 0, 1]], dtype=int64)"
      ]
     },
     "execution_count": 7,
     "metadata": {},
     "output_type": "execute_result"
    }
   ],
   "source": [
    "X.toarray()"
   ]
  },
  {
   "cell_type": "code",
   "execution_count": 19,
   "metadata": {},
   "outputs": [
    {
     "name": "stderr",
     "output_type": "stream",
     "text": [
      "[nltk_data] Downloading package wordnet to\n",
      "[nltk_data]     C:\\Users\\debnathk\\AppData\\Roaming\\nltk_data...\n"
     ]
    }
   ],
   "source": [
    "# Removing stopwords\n",
    "# Importing stopwords function for nltk\n",
    "import nltk\n",
    "from nltk.corpus import stopwords\n",
    "nltk.download('wordnet')\n",
    "from nltk.corpus import wordnet\n",
    "from nltk.tokenize import word_tokenize"
   ]
  },
  {
   "cell_type": "code",
   "execution_count": 12,
   "metadata": {},
   "outputs": [
    {
     "name": "stderr",
     "output_type": "stream",
     "text": [
      "[nltk_data] Downloading package stopwords to\n",
      "[nltk_data]     C:\\Users\\debnathk\\AppData\\Roaming\\nltk_data...\n"
     ]
    },
    {
     "name": "stdout",
     "output_type": "stream",
     "text": [
      "['i', 'me', 'my', 'myself', 'we', 'our', 'ours', 'ourselves', 'you', \"you're\", \"you've\", \"you'll\", \"you'd\", 'your', 'yours', 'yourself', 'yourselves', 'he', 'him', 'his', 'himself', 'she', \"she's\", 'her', 'hers', 'herself', 'it', \"it's\", 'its', 'itself', 'they', 'them', 'their', 'theirs', 'themselves', 'what', 'which', 'who', 'whom', 'this', 'that', \"that'll\", 'these', 'those', 'am', 'is', 'are', 'was', 'were', 'be', 'been', 'being', 'have', 'has', 'had', 'having', 'do', 'does', 'did', 'doing', 'a', 'an', 'the', 'and', 'but', 'if', 'or', 'because', 'as', 'until', 'while', 'of', 'at', 'by', 'for', 'with', 'about', 'against', 'between', 'into', 'through', 'during', 'before', 'after', 'above', 'below', 'to', 'from', 'up', 'down', 'in', 'out', 'on', 'off', 'over', 'under', 'again', 'further', 'then', 'once', 'here', 'there', 'when', 'where', 'why', 'how', 'all', 'any', 'both', 'each', 'few', 'more', 'most', 'other', 'some', 'such', 'no', 'nor', 'not', 'only', 'own', 'same', 'so', 'than', 'too', 'very', 's', 't', 'can', 'will', 'just', 'don', \"don't\", 'should', \"should've\", 'now', 'd', 'll', 'm', 'o', 're', 've', 'y', 'ain', 'aren', \"aren't\", 'couldn', \"couldn't\", 'didn', \"didn't\", 'doesn', \"doesn't\", 'hadn', \"hadn't\", 'hasn', \"hasn't\", 'haven', \"haven't\", 'isn', \"isn't\", 'ma', 'mightn', \"mightn't\", 'mustn', \"mustn't\", 'needn', \"needn't\", 'shan', \"shan't\", 'shouldn', \"shouldn't\", 'wasn', \"wasn't\", 'weren', \"weren't\", 'won', \"won't\", 'wouldn', \"wouldn't\"]\n"
     ]
    },
    {
     "name": "stderr",
     "output_type": "stream",
     "text": [
      "[nltk_data]   Unzipping corpora\\stopwords.zip.\n"
     ]
    }
   ],
   "source": [
    "nltk.download('stopwords')\n",
    "stop_words = stopwords.words('english')\n",
    "print(stop_words)"
   ]
  },
  {
   "cell_type": "code",
   "execution_count": 13,
   "metadata": {},
   "outputs": [
    {
     "data": {
      "text/plain": [
       "['This', 'is', 'the', 'first', 'document', '.']"
      ]
     },
     "execution_count": 13,
     "metadata": {},
     "output_type": "execute_result"
    }
   ],
   "source": [
    "word_tokens = word_tokenize(corpus[0])\n",
    "word_tokens"
   ]
  },
  {
   "cell_type": "code",
   "execution_count": 14,
   "metadata": {},
   "outputs": [
    {
     "data": {
      "text/plain": [
       "['first', 'document', '.']"
      ]
     },
     "execution_count": 14,
     "metadata": {},
     "output_type": "execute_result"
    }
   ],
   "source": [
    "# Filter stopword from corpus\n",
    "filtered_sentence = [w for w in word_tokens if not w.lower() in stop_words]\n",
    "filtered_sentence"
   ]
  },
  {
   "cell_type": "code",
   "execution_count": 15,
   "metadata": {},
   "outputs": [
    {
     "name": "stdout",
     "output_type": "stream",
     "text": [
      "This: thi\n",
      "is: is\n",
      "the: the\n",
      "first: first\n",
      "document: document\n",
      ".: .\n"
     ]
    }
   ],
   "source": [
    "## Stemming\n",
    "from nltk.stem import PorterStemmer\n",
    "\n",
    "stemmer = PorterStemmer()\n",
    "for word in word_tokens:\n",
    "    print(f'{word}: {stemmer.stem(word)}')"
   ]
  },
  {
   "cell_type": "code",
   "execution_count": 20,
   "metadata": {},
   "outputs": [
    {
     "name": "stdout",
     "output_type": "stream",
     "text": [
      "This: This\n",
      "is: is\n",
      "the: the\n",
      "first: first\n",
      "document: document\n",
      ".: .\n"
     ]
    }
   ],
   "source": [
    "# Lemmatizing\n",
    "from nltk.stem import WordNetLemmatizer\n",
    "\n",
    "lemmatizer = WordNetLemmatizer()\n",
    "for word in word_tokens:\n",
    "    print(f'{word}: {lemmatizer.lemmatize(word)}')"
   ]
  },
  {
   "cell_type": "code",
   "execution_count": 21,
   "metadata": {},
   "outputs": [],
   "source": [
    "# Extra: POS-tagging\n",
    "\n",
    "def get_wordnet_pos(treebank_tag):\n",
    "    if treebank_tag.startswith('J'):\n",
    "        return wordnet.ADJ\n",
    "    if treebank_tag.startswith('V'):\n",
    "        return wordnet.VERB\n",
    "    if treebank_tag.startswith('R'):\n",
    "        return wordnet.ADV\n",
    "    else:\n",
    "        return wordnet.NOUN"
   ]
  },
  {
   "cell_type": "code",
   "execution_count": 22,
   "metadata": {},
   "outputs": [
    {
     "data": {
      "text/plain": [
       "['Donal', 'Trump', 'has', 'a', 'devoted', 'following', '.']"
      ]
     },
     "execution_count": 22,
     "metadata": {},
     "output_type": "execute_result"
    }
   ],
   "source": [
    "sentence = \"Donal Trump has a devoted following.\"\n",
    "sentence_tok = word_tokenize(sentence)\n",
    "sentence_tok"
   ]
  },
  {
   "cell_type": "code",
   "execution_count": 24,
   "metadata": {},
   "outputs": [
    {
     "name": "stderr",
     "output_type": "stream",
     "text": [
      "[nltk_data] Downloading package averaged_perceptron_tagger to\n",
      "[nltk_data]     C:\\Users\\debnathk\\AppData\\Roaming\\nltk_data...\n",
      "[nltk_data]   Unzipping taggers\\averaged_perceptron_tagger.zip.\n"
     ]
    },
    {
     "data": {
      "text/plain": [
       "[('Donal', 'NNP'),\n",
       " ('Trump', 'NNP'),\n",
       " ('has', 'VBZ'),\n",
       " ('a', 'DT'),\n",
       " ('devoted', 'VBN'),\n",
       " ('following', 'NN'),\n",
       " ('.', '.')]"
      ]
     },
     "execution_count": 24,
     "metadata": {},
     "output_type": "execute_result"
    }
   ],
   "source": [
    "nltk.download('averaged_perceptron_tagger')\n",
    "\n",
    "words_and_tags = nltk.pos_tag(sentence_tok)\n",
    "words_and_tags"
   ]
  },
  {
   "cell_type": "code",
   "execution_count": 25,
   "metadata": {},
   "outputs": [
    {
     "name": "stdout",
     "output_type": "stream",
     "text": [
      "Donal Trump have a devote following . "
     ]
    }
   ],
   "source": [
    "for word, tag in words_and_tags:\n",
    "    lemma = lemmatizer.lemmatize(word, pos=get_wordnet_pos(tag))\n",
    "    print(lemma, end=\" \")"
   ]
  },
  {
   "cell_type": "markdown",
   "metadata": {},
   "source": [
    "### Count Vectorizer:\n",
    "\n",
    ">**Definition:**\n",
    "- Counting the scalers inside a vector."
   ]
  },
  {
   "cell_type": "code",
   "execution_count": null,
   "metadata": {},
   "outputs": [],
   "source": []
  }
 ],
 "metadata": {
  "kernelspec": {
   "display_name": "base",
   "language": "python",
   "name": "python3"
  },
  "language_info": {
   "codemirror_mode": {
    "name": "ipython",
    "version": 3
   },
   "file_extension": ".py",
   "mimetype": "text/x-python",
   "name": "python",
   "nbconvert_exporter": "python",
   "pygments_lexer": "ipython3",
   "version": "3.11.7"
  }
 },
 "nbformat": 4,
 "nbformat_minor": 2
}
